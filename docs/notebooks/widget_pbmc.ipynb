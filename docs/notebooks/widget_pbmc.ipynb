{
 "cells": [
  {
   "cell_type": "markdown",
   "metadata": {
    "nbsphinx": "hidden"
   },
   "source": [
    "# Vitessce Widget Tutorial"
   ]
  },
  {
   "cell_type": "markdown",
   "metadata": {},
   "source": [
    "# Visualization of 3k PBMC reference"
   ]
  },
  {
   "cell_type": "markdown",
   "metadata": {},
   "source": [
    "## 1. Import dependencies\n",
    "\n",
    "We need to import the classes and functions that we will be using from the corresponding packages."
   ]
  },
  {
   "cell_type": "code",
   "execution_count": 1,
   "metadata": {},
   "outputs": [
    {
     "name": "stdout",
     "output_type": "stream",
     "text": [
      "Collecting scanpy\n",
      "  Using cached scanpy-1.6.0-py3-none-any.whl (7.7 MB)\n",
      "Requirement already satisfied: scipy>=1.4 in /Users/mkeller/anaconda3/envs/vitessce-jupyter-test/lib/python3.8/site-packages (from scanpy) (1.5.4)\n",
      "Requirement already satisfied: numpy>=1.17.0 in /Users/mkeller/anaconda3/envs/vitessce-jupyter-test/lib/python3.8/site-packages (from scanpy) (1.19.4)\n",
      "Requirement already satisfied: packaging in /Users/mkeller/anaconda3/envs/vitessce-jupyter-test/lib/python3.8/site-packages (from scanpy) (20.8)\n",
      "Collecting anndata>=0.7\n",
      "  Downloading anndata-0.7.5-py3-none-any.whl (119 kB)\n",
      "\u001b[K     |████████████████████████████████| 119 kB 3.6 MB/s eta 0:00:01\n",
      "\u001b[?25hCollecting h5py>=2.10.0\n",
      "  Downloading h5py-3.1.0-cp38-cp38-macosx_10_9_x86_64.whl (2.9 MB)\n",
      "\u001b[K     |████████████████████████████████| 2.9 MB 30.5 MB/s eta 0:00:01\n",
      "\u001b[?25hCollecting matplotlib>=3.1.2\n",
      "  Using cached matplotlib-3.3.3-cp38-cp38-macosx_10_9_x86_64.whl (8.5 MB)\n",
      "Requirement already satisfied: pyparsing!=2.0.4,!=2.1.2,!=2.1.6,>=2.0.3 in /Users/mkeller/anaconda3/envs/vitessce-jupyter-test/lib/python3.8/site-packages (from matplotlib>=3.1.2->scanpy) (2.4.7)\n",
      "Requirement already satisfied: python-dateutil>=2.1 in /Users/mkeller/anaconda3/envs/vitessce-jupyter-test/lib/python3.8/site-packages (from matplotlib>=3.1.2->scanpy) (2.8.1)\n",
      "Collecting cycler>=0.10\n",
      "  Using cached cycler-0.10.0-py2.py3-none-any.whl (6.5 kB)\n",
      "Requirement already satisfied: six in /Users/mkeller/anaconda3/envs/vitessce-jupyter-test/lib/python3.8/site-packages (from cycler>=0.10->matplotlib>=3.1.2->scanpy) (1.15.0)\n",
      "Collecting kiwisolver>=1.0.1\n",
      "  Using cached kiwisolver-1.3.1-cp38-cp38-macosx_10_9_x86_64.whl (61 kB)\n",
      "Collecting networkx>=2.3\n",
      "  Using cached networkx-2.5-py3-none-any.whl (1.6 MB)\n",
      "Requirement already satisfied: decorator>=4.3.0 in /Users/mkeller/anaconda3/envs/vitessce-jupyter-test/lib/python3.8/site-packages (from networkx>=2.3->scanpy) (4.4.2)\n",
      "Collecting numba>=0.41.0\n",
      "  Downloading numba-0.52.0-cp38-cp38-macosx_10_14_x86_64.whl (2.2 MB)\n",
      "\u001b[K     |████████████████████████████████| 2.2 MB 11.5 MB/s eta 0:00:01\n",
      "\u001b[?25hRequirement already satisfied: setuptools in /Users/mkeller/anaconda3/envs/vitessce-jupyter-test/lib/python3.8/site-packages (from numba>=0.41.0->scanpy) (51.0.0.post20201207)\n",
      "Collecting llvmlite<0.36,>=0.35.0\n",
      "  Downloading llvmlite-0.35.0-cp38-cp38-macosx_10_9_x86_64.whl (18.5 MB)\n",
      "\u001b[K     |████████████████████████████████| 18.5 MB 13.2 MB/s eta 0:00:01\n",
      "\u001b[?25hCollecting pandas>=0.21\n",
      "  Downloading pandas-1.2.0-cp38-cp38-macosx_10_9_x86_64.whl (10.5 MB)\n",
      "\u001b[K     |████████████████████████████████| 10.5 MB 10.6 MB/s eta 0:00:01\n",
      "\u001b[?25hCollecting pillow>=6.2.0\n",
      "  Downloading Pillow-8.0.1-cp38-cp38-macosx_10_10_x86_64.whl (2.2 MB)\n",
      "\u001b[K     |████████████████████████████████| 2.2 MB 11.9 MB/s eta 0:00:01\n",
      "\u001b[?25hCollecting pytz>=2017.3\n",
      "  Downloading pytz-2020.5-py2.py3-none-any.whl (510 kB)\n",
      "\u001b[K     |████████████████████████████████| 510 kB 14.4 MB/s eta 0:00:01\n",
      "\u001b[?25hCollecting scikit-learn>=0.21.2\n",
      "  Using cached scikit_learn-0.24.0-cp38-cp38-macosx_10_9_x86_64.whl (7.2 MB)\n",
      "Collecting joblib\n",
      "  Using cached joblib-1.0.0-py3-none-any.whl (302 kB)\n",
      "Collecting statsmodels>=0.10.0rc2\n",
      "  Using cached statsmodels-0.12.1-cp38-cp38-macosx_10_13_x86_64.whl (9.6 MB)\n",
      "Collecting patsy\n",
      "  Using cached patsy-0.5.1-py2.py3-none-any.whl (231 kB)\n",
      "Collecting threadpoolctl>=2.0.0\n",
      "  Using cached threadpoolctl-2.1.0-py3-none-any.whl (12 kB)\n",
      "Collecting umap-learn>=0.3.10\n",
      "  Using cached umap_learn-0.4.6-py3-none-any.whl\n",
      "Collecting legacy-api-wrap\n",
      "  Using cached legacy_api_wrap-1.2-py3-none-any.whl (37 kB)\n",
      "Collecting get-version>=2.0.4\n",
      "  Using cached get_version-2.1-py3-none-any.whl (43 kB)\n",
      "Collecting natsort\n",
      "  Using cached natsort-7.1.0-py3-none-any.whl (35 kB)\n",
      "Collecting seaborn\n",
      "  Using cached seaborn-0.11.1-py3-none-any.whl (285 kB)\n",
      "Collecting setuptools-scm\n",
      "  Using cached setuptools_scm-5.0.1-py2.py3-none-any.whl (28 kB)\n",
      "Collecting sinfo\n",
      "  Using cached sinfo-0.3.1-py3-none-any.whl\n",
      "Collecting stdlib-list\n",
      "  Using cached stdlib_list-0.8.0-py3-none-any.whl (63 kB)\n",
      "Collecting tables\n",
      "  Using cached tables-3.6.1-cp38-cp38-macosx_10_9_x86_64.whl (4.3 MB)\n",
      "Collecting numexpr>=2.6.2\n",
      "  Using cached numexpr-2.7.2-cp38-cp38-macosx_10_9_x86_64.whl (98 kB)\n",
      "Collecting tqdm\n",
      "  Downloading tqdm-4.55.0-py2.py3-none-any.whl (68 kB)\n",
      "\u001b[K     |████████████████████████████████| 68 kB 12.3 MB/s eta 0:00:01\n",
      "\u001b[?25hInstalling collected packages: threadpoolctl, pytz, pillow, llvmlite, kiwisolver, joblib, cycler, stdlib-list, scikit-learn, patsy, pandas, numexpr, numba, natsort, matplotlib, h5py, get-version, umap-learn, tqdm, tables, statsmodels, sinfo, setuptools-scm, seaborn, networkx, legacy-api-wrap, anndata, scanpy\n",
      "Successfully installed anndata-0.7.5 cycler-0.10.0 get-version-2.1 h5py-3.1.0 joblib-1.0.0 kiwisolver-1.3.1 legacy-api-wrap-1.2 llvmlite-0.35.0 matplotlib-3.3.3 natsort-7.1.0 networkx-2.5 numba-0.52.0 numexpr-2.7.2 pandas-1.2.0 patsy-0.5.1 pillow-8.0.1 pytz-2020.5 scanpy-1.6.0 scikit-learn-0.24.0 seaborn-0.11.1 setuptools-scm-5.0.1 sinfo-0.3.1 statsmodels-0.12.1 stdlib-list-0.8.0 tables-3.6.1 threadpoolctl-2.1.0 tqdm-4.55.0 umap-learn-0.4.6\n"
     ]
    }
   ],
   "source": [
    "!pip install scanpy"
   ]
  },
  {
   "cell_type": "code",
   "execution_count": 8,
   "metadata": {},
   "outputs": [
    {
     "name": "stdout",
     "output_type": "stream",
     "text": [
      "Installing /Users/mkeller/research/dbmi/vitessce/vitessce-python/vitessce/static -> vitessce-jupyter\n",
      "Symlinking: /Users/mkeller/anaconda3/envs/vitessce-jupyter-test/share/jupyter/nbextensions/vitessce-jupyter -> /Users/mkeller/research/dbmi/vitessce/vitessce-python/vitessce/static\n",
      "- Validating: \u001b[32mOK\u001b[0m\n",
      "\n",
      "    To initialize this nbextension in the browser every time the notebook (or other app) loads:\n",
      "    \n",
      "          jupyter nbextension enable vitessce --py --sys-prefix\n",
      "    \n",
      "Enabling notebook extension vitessce-jupyter/extension...\n",
      "      - Validating: \u001b[32mOK\u001b[0m\n"
     ]
    }
   ],
   "source": [
    "!jupyter nbextension install --py --symlink --sys-prefix vitessce\n",
    "!jupyter nbextension enable --py --sys-prefix vitessce"
   ]
  },
  {
   "cell_type": "code",
   "execution_count": 1,
   "metadata": {},
   "outputs": [],
   "source": [
    "import os\n",
    "from os.path import join\n",
    "from urllib.request import urlretrieve\n",
    "from anndata import read_h5ad\n",
    "import scanpy as sc\n",
    "\n",
    "from vitessce import (\n",
    "    VitessceConfig,\n",
    "    Component as cm,\n",
    "    CoordinationType as ct,\n",
    "    AnnDataWrapper,\n",
    ")"
   ]
  },
  {
   "cell_type": "markdown",
   "metadata": {},
   "source": [
    "## 2. Download the dataset\n",
    "\n",
    "Download `pbmc3k_final.h5ad` from https://seurat.nygenome.org/pbmc3k_final.h5ad"
   ]
  },
  {
   "cell_type": "code",
   "execution_count": 2,
   "metadata": {},
   "outputs": [
    {
     "data": {
      "text/plain": [
       "('data/pbmc3k_final.h5ad', <http.client.HTTPMessage at 0x7f9048540e80>)"
      ]
     },
     "execution_count": 2,
     "metadata": {},
     "output_type": "execute_result"
    }
   ],
   "source": [
    "os.makedirs(\"data\", exist_ok=True)\n",
    "adata_filepath = join(\"data\", \"pbmc3k_final.h5ad\")\n",
    "urlretrieve('https://seurat.nygenome.org/pbmc3k_final.h5ad', adata_filepath)"
   ]
  },
  {
   "cell_type": "markdown",
   "metadata": {},
   "source": [
    "## 3. Load the dataset\n",
    "\n",
    "Load the dataset using AnnData's `read_h5ad` function."
   ]
  },
  {
   "cell_type": "code",
   "execution_count": 3,
   "metadata": {},
   "outputs": [
    {
     "name": "stderr",
     "output_type": "stream",
     "text": [
      "/Users/mkeller/anaconda3/envs/vitessce-jupyter-test/lib/python3.8/site-packages/anndata/compat/__init__.py:179: FutureWarning: Moving element from .uns['neighbors']['distances'] to .obsp['distances'].\n",
      "\n",
      "This is where adjacency matrices should go now.\n",
      "  warn(\n",
      "/Users/mkeller/anaconda3/envs/vitessce-jupyter-test/lib/python3.8/site-packages/anndata/compat/__init__.py:179: FutureWarning: Moving element from .uns['neighbors']['connectivities'] to .obsp['connectivities'].\n",
      "\n",
      "This is where adjacency matrices should go now.\n",
      "  warn(\n"
     ]
    }
   ],
   "source": [
    "adata = read_h5ad(adata_filepath)"
   ]
  },
  {
   "cell_type": "markdown",
   "metadata": {},
   "source": [
    "## 3.1. Optionally, preprocess the dataset\n",
    "\n",
    "Before visualization, you may want to filter the list of genes."
   ]
  },
  {
   "cell_type": "code",
   "execution_count": 4,
   "metadata": {},
   "outputs": [],
   "source": [
    "sc.pp.highly_variable_genes(adata, n_top_genes=50)"
   ]
  },
  {
   "cell_type": "markdown",
   "metadata": {},
   "source": [
    "## 4. Create a Vitessce view config\n",
    "\n",
    "Define the data and views you would like to include in the widget."
   ]
  },
  {
   "cell_type": "code",
   "execution_count": 5,
   "metadata": {},
   "outputs": [],
   "source": [
    "vc = VitessceConfig(name='PBMC Reference')\n",
    "dataset = vc.add_dataset(name='PBMC 3k').add_object(AnnDataWrapper(adata, cell_set_obs_cols=[\"leiden\"]))\n",
    "umap = vc.add_view(dataset, cm.SCATTERPLOT, mapping=\"X_umap\")\n",
    "pca = vc.add_view(dataset, cm.SCATTERPLOT, mapping=\"X_pca\")\n",
    "cell_sets = vc.add_view(dataset, cm.CELL_SETS)\n",
    "genes = vc.add_view(dataset, cm.GENES)\n",
    "heatmap = vc.add_view(dataset, cm.HEATMAP)\n",
    "vc.layout((umap / pca) | ((cell_sets | genes) / heatmap));"
   ]
  },
  {
   "cell_type": "markdown",
   "metadata": {},
   "source": [
    "## 5. Create the Vitessce widget"
   ]
  },
  {
   "cell_type": "code",
   "execution_count": 6,
   "metadata": {},
   "outputs": [
    {
     "name": "stderr",
     "output_type": "stream",
     "text": [
      "[2020-12-29 16:16:00 -0500] [31553] [INFO] Running on http://127.0.0.1:8000 (CTRL + C to quit)\n"
     ]
    },
    {
     "data": {
      "application/vnd.jupyter.widget-view+json": {
       "model_id": "eb0ccefc2e7b40b0a8e659c3b809a9a3",
       "version_major": 2,
       "version_minor": 0
      },
      "text/plain": [
       "VitessceWidget(config={'version': '1.0.0', 'name': 'PBMC Reference', 'description': '', 'datasets': [{'uid': '…"
      ]
     },
     "metadata": {},
     "output_type": "display_data"
    }
   ],
   "source": [
    "vw = vc.widget()\n",
    "vw"
   ]
  },
  {
   "cell_type": "code",
   "execution_count": null,
   "metadata": {},
   "outputs": [],
   "source": []
  }
 ],
 "metadata": {
  "kernelspec": {
   "display_name": "Python 3",
   "language": "python",
   "name": "python3"
  },
  "language_info": {
   "codemirror_mode": {
    "name": "ipython",
    "version": 3
   },
   "file_extension": ".py",
   "mimetype": "text/x-python",
   "name": "python",
   "nbconvert_exporter": "python",
   "pygments_lexer": "ipython3",
   "version": "3.8.5"
  }
 },
 "nbformat": 4,
 "nbformat_minor": 4
}
