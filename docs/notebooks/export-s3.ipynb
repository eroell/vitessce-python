{
 "cells": [
  {
   "cell_type": "code",
   "execution_count": null,
   "metadata": {},
   "outputs": [],
   "source": [
    "import os\n",
    "import boto3\n",
    "from os.path import join\n",
    "from anndata import read_h5ad\n",
    "import scanpy as sc\n",
    "\n",
    "from vitessce import (\n",
    "    VitessceWidget,\n",
    "    VitessceConfig,\n",
    "    Component as cm,\n",
    "    CoordinationType as ct,\n",
    "    AnnDataWrapper,\n",
    "    upload_to_s3,\n",
    ")"
   ]
  },
  {
   "cell_type": "code",
   "execution_count": null,
   "metadata": {},
   "outputs": [],
   "source": [
    "s3 = boto3.resource(\n",
    "    service_name='s3',\n",
    "    aws_access_key_id=os.environ['VITESSCE_S3_ACCESS_KEY_ID'],\n",
    "    aws_secret_access_key=os.environ['VITESSCE_S3_SECRET_ACCESS_KEY'],\n",
    ")"
   ]
  },
  {
   "cell_type": "code",
   "execution_count": null,
   "metadata": {},
   "outputs": [],
   "source": [
    "adata = read_h5ad(join(\"data\", \"habib17.processed.h5ad\"))\n",
    "sc.pp.highly_variable_genes(adata, n_top_genes=100)\n",
    "\n",
    "vc = VitessceConfig(name='Habib et al', description='COVID-19 Healthy Donor Brain')\n",
    "dataset = vc.add_dataset(name='Brain').add_object(AnnDataWrapper(adata))\n",
    "scatterplot = vc.add_view(dataset, cm.SCATTERPLOT, mapping=\"X_umap\")\n",
    "cell_sets = vc.add_view(dataset, cm.CELL_SETS)\n",
    "genes = vc.add_view(dataset, cm.GENES)\n",
    "heatmap = vc.add_view(dataset, cm.HEATMAP)\n",
    "vc.layout((scatterplot | (cell_sets / genes)) / heatmap);"
   ]
  },
  {
   "cell_type": "code",
   "execution_count": null,
   "metadata": {},
   "outputs": [],
   "source": [
    "upload_to_s3(vc, s3, 'vitessce-export-examples', prefix='test')"
   ]
  },
  {
   "cell_type": "code",
   "execution_count": null,
   "metadata": {},
   "outputs": [],
   "source": []
  }
 ],
 "metadata": {
  "kernelspec": {
   "display_name": "Python 3",
   "language": "python",
   "name": "python3"
  },
  "language_info": {
   "codemirror_mode": {
    "name": "ipython",
    "version": 3
   },
   "file_extension": ".py",
   "mimetype": "text/x-python",
   "name": "python",
   "nbconvert_exporter": "python",
   "pygments_lexer": "ipython3",
   "version": "3.8.6"
  }
 },
 "nbformat": 4,
 "nbformat_minor": 4
}
