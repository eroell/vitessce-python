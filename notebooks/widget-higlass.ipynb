{
 "cells": [
  {
   "cell_type": "code",
   "execution_count": 4,
   "metadata": {},
   "outputs": [],
   "source": [
    "from vitessce import (\n",
    "    VitessceWidget,\n",
    "    VitessceConfig,\n",
    "    Component as cm,\n",
    "    CoordinationType as ct,\n",
    "    SnapToolsWrapper,\n",
    ")\n",
    "from os.path import join\n",
    "from scipy.io import mmread\n",
    "import pandas as pd\n",
    "import numpy as np"
   ]
  },
  {
   "cell_type": "code",
   "execution_count": 5,
   "metadata": {},
   "outputs": [],
   "source": [
    "def get_hg_view_config(port):\n",
    "    return {\n",
    "        \"uid\": 'aa',\n",
    "        \"chromInfoPath\": '//s3.amazonaws.com/pkerp/data/hg38/chromSizes.tsv',\n",
    "        \"tracks\": {\n",
    "          \"top\": [\n",
    "            {\n",
    "              \"type\": \"horizontal-chromosome-labels\",\n",
    "              \"server\": \"https://higlass.io/api/v1\",\n",
    "              \"tilesetUid\": \"NyITQvZsS_mOFNlz5C2LJg\",\n",
    "              \"uid\": \"chromosome-labels\",\n",
    "              \"options\": {\n",
    "                \"color\": '#808080',\n",
    "                \"stroke\": 'black',\n",
    "                \"fontSize\": 12,\n",
    "                \"fontIsLeftAligned\": False,\n",
    "                \"showMousePosition\": True,\n",
    "                \"mousePositionColor\": '#ff00ff',\n",
    "              },\n",
    "              \"height\": 30\n",
    "            },\n",
    "            {\n",
    "              \"type\": \"horizontal-gene-annotations\",\n",
    "              \"server\": \"https://higlass.io/api/v1\",\n",
    "              \"tilesetUid\": \"P0PLbQMwTYGy-5uPIQid7A\",\n",
    "              \"uid\": \"gene-labels\",\n",
    "              \"options\": {\n",
    "                \"name\": 'Gene Annotations (hg38)',\n",
    "                \"fontSize\": 10,\n",
    "                \"labelPosition\": 'hidden',\n",
    "                \"labelLeftMargin\": 0,\n",
    "                \"labelRightMargin\": 0,\n",
    "                \"labelTopMargin\": 0,\n",
    "                \"labelBottomMargin\": 0,\n",
    "                \"minHeight\": 24,\n",
    "                \"geneAnnotationHeight\": 16,\n",
    "                \"geneLabelPosition\": 'outside',\n",
    "                \"geneStrandSpacing\": 4,\n",
    "                \"showMousePosition\": True,\n",
    "                \"mousePositionColor\": '#ff00ff',\n",
    "                \"plusStrandColor\": '#fdff54',\n",
    "                \"minusStrandColor\": '#68bf30',\n",
    "                \"labelColor\": 'black',\n",
    "                \"trackBorderWidth\": 0,\n",
    "                \"trackBorderColor\": 'black',\n",
    "              },\n",
    "              \"height\": 70\n",
    "            },\n",
    "          ] + [\n",
    "            {\n",
    "              \"type\": \"horizontal-bar\",\n",
    "              \"uid\": f\"bar-track-{i}\",\n",
    "              \"data\": {\n",
    "                \"type\": \"zarr-multivec\",\n",
    "                \"url\": f\"http://localhost:{port}/A/0/genomic/profiles.zarr\",\n",
    "                \"row\": i,\n",
    "              },\n",
    "              \"options\": {\n",
    "                \"name\": f\"Cluster {i}\",\n",
    "                \"labelColor\": \"black\",\n",
    "                \"labelPosition\": \"topLeft\",\n",
    "                \"axisPositionHorizontal\": \"right\",\n",
    "                \"barFillColor\": \"darkgreen\",\n",
    "                \"valueScaling\": \"linear\",\n",
    "                \"trackBorderWidth\": 0,\n",
    "                \"trackBorderColor\": \"black\",\n",
    "                \"labelTextOpacity\": 0.4,\n",
    "                \"barOpacity\": 1,\n",
    "                \"align\": \"bottom\",\n",
    "                \"labelLeftMargin\": 0,\n",
    "                \"labelRightMargin\": 0,\n",
    "                \"labelTopMargin\": 0,\n",
    "                \"labelBottomMargin\": 0,\n",
    "                \"labelShowResolution\": False,\n",
    "                \"axisLabelFormatting\": \"scientific\",\n",
    "                \"labelShowAssembly\": False\n",
    "              },\n",
    "              \"width\": 568,\n",
    "              \"height\": 42\n",
    "            } for i in range(17)\n",
    "          ],\n",
    "          \"left\": [],\n",
    "          \"center\": [],\n",
    "          \"right\": [],\n",
    "          \"bottom\": [],\n",
    "        },\n",
    "        \"layout\": {\n",
    "          \"w\": 12,\n",
    "          \"h\": 12,\n",
    "          \"x\": 0,\n",
    "          \"y\": 0,\n",
    "          \"moved\": False,\n",
    "          \"static\": False,\n",
    "        },\n",
    "    }"
   ]
  },
  {
   "cell_type": "code",
   "execution_count": 6,
   "metadata": {},
   "outputs": [],
   "source": [
    "mtx = mmread(join('data', 'snapatac', 'filtered_cell_by_bin.mtx'))\n",
    "barcodes_df = pd.read_csv(join('data', 'snapatac', 'barcodes.txt'), header=None)\n",
    "bins_df = pd.read_csv(join('data', 'snapatac', 'bins.txt'), header=None)\n",
    "clusters_df = pd.read_csv(join('data', 'snapatac', 'umap_coords_clusters.csv'), index_col=0)\n",
    "\n",
    "w = SnapToolsWrapper(mtx, barcodes_df, bins_df, clusters_df)"
   ]
  },
  {
   "cell_type": "code",
   "execution_count": 7,
   "metadata": {},
   "outputs": [],
   "source": [
    "port = 9085"
   ]
  },
  {
   "cell_type": "code",
   "execution_count": 8,
   "metadata": {},
   "outputs": [],
   "source": [
    "vc = VitessceConfig(name='HiGlass', description='HiGlass')\n",
    "dataset = vc.add_dataset(name='HBM485.TBWH.322').add_object(w)\n",
    "higlass = vc.add_view(dataset, cm.HIGLASS)\n",
    "\n",
    "higlass.set_props(hgViewConfig=get_hg_view_config(port))\n",
    "\n",
    "vc.layout(higlass);"
   ]
  },
  {
   "cell_type": "code",
   "execution_count": 9,
   "metadata": {},
   "outputs": [
    {
     "name": "stderr",
     "output_type": "stream",
     "text": [
      "/Users/mkeller/research/dbmi/vitessce/vitessce-python/vitessce/wrappers.py:533: SettingWithCopyWarning: \n",
      "A value is trying to be set on a copy of a slice from a DataFrame.\n",
      "Try using .loc[row_indexer,col_indexer] = value instead\n",
      "\n",
      "See the caveats in the documentation: https://pandas.pydata.org/pandas-docs/stable/user_guide/indexing.html#returning-a-view-versus-a-copy\n",
      "  in_bins_df[\"chr_name\"] = in_bins_df[\"chr_name\"].astype(str)\n",
      "/Users/mkeller/research/dbmi/vitessce/vitessce-python/vitessce/wrappers.py:534: SettingWithCopyWarning: \n",
      "A value is trying to be set on a copy of a slice from a DataFrame.\n",
      "Try using .loc[row_indexer,col_indexer] = value instead\n",
      "\n",
      "See the caveats in the documentation: https://pandas.pydata.org/pandas-docs/stable/user_guide/indexing.html#returning-a-view-versus-a-copy\n",
      "  in_bins_df[\"chr_start\"] = in_bins_df[\"chr_start\"].astype(int)\n",
      "/Users/mkeller/research/dbmi/vitessce/vitessce-python/vitessce/wrappers.py:535: SettingWithCopyWarning: \n",
      "A value is trying to be set on a copy of a slice from a DataFrame.\n",
      "Try using .loc[row_indexer,col_indexer] = value instead\n",
      "\n",
      "See the caveats in the documentation: https://pandas.pydata.org/pandas-docs/stable/user_guide/indexing.html#returning-a-view-versus-a-copy\n",
      "  in_bins_df[\"chr_end\"] = in_bins_df[\"chr_end\"].astype(int)\n",
      "[2020-12-05 20:19:35 -0500] [27999] [INFO] Running on http://127.0.0.1:9085 (CTRL + C to quit)\n"
     ]
    },
    {
     "data": {
      "application/vnd.jupyter.widget-view+json": {
       "model_id": "b4f859c121004a4f8196ffc512da4e4e",
       "version_major": 2,
       "version_minor": 0
      },
      "text/plain": [
       "VitessceWidget(config={'version': '1.0.0', 'name': 'HiGlass', 'description': 'HiGlass', 'datasets': [{'uid': '…"
      ]
     },
     "metadata": {},
     "output_type": "display_data"
    }
   ],
   "source": [
    "vw = VitessceWidget(vc, port=port, height=900)\n",
    "vw"
   ]
  },
  {
   "cell_type": "code",
   "execution_count": null,
   "metadata": {},
   "outputs": [],
   "source": []
  },
  {
   "cell_type": "code",
   "execution_count": null,
   "metadata": {},
   "outputs": [],
   "source": []
  }
 ],
 "metadata": {
  "kernelspec": {
   "display_name": "Python 3",
   "language": "python",
   "name": "python3"
  },
  "language_info": {
   "codemirror_mode": {
    "name": "ipython",
    "version": 3
   },
   "file_extension": ".py",
   "mimetype": "text/x-python",
   "name": "python",
   "nbconvert_exporter": "python",
   "pygments_lexer": "ipython3",
   "version": "3.8.6"
  }
 },
 "nbformat": 4,
 "nbformat_minor": 4
}
