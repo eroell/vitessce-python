{
 "cells": [
  {
   "cell_type": "code",
   "execution_count": 1,
   "metadata": {},
   "outputs": [],
   "source": [
    "from vitessce import (\n",
    "    VitessceWidget,\n",
    "    VitessceConfig,\n",
    "    Component as cm,\n",
    "    CoordinationType as ct\n",
    ")\n",
    "from anndata import read_h5ad"
   ]
  },
  {
   "cell_type": "code",
   "execution_count": 2,
   "metadata": {},
   "outputs": [
    {
     "name": "stderr",
     "output_type": "stream",
     "text": [
      "/Users/mkeller/anaconda3/envs/vitessce-jupyter-examples/lib/python3.8/site-packages/anndata/compat/__init__.py:158: FutureWarning: Moving element from .uns['neighbors']['distances'] to .obsp['distances'].\n",
      "\n",
      "This is where adjacency matrices should go now.\n",
      "  warn(\n",
      "/Users/mkeller/anaconda3/envs/vitessce-jupyter-examples/lib/python3.8/site-packages/anndata/compat/__init__.py:158: FutureWarning: Moving element from .uns['neighbors']['connectivities'] to .obsp['connectivities'].\n",
      "\n",
      "This is where adjacency matrices should go now.\n",
      "  warn(\n"
     ]
    }
   ],
   "source": [
    "adata = read_h5ad(\"data/habib17.processed.h5ad\")"
   ]
  },
  {
   "cell_type": "code",
   "execution_count": 3,
   "metadata": {},
   "outputs": [],
   "source": [
    "vc = VitessceConfig(name='Habib et al', description='COVID-19 Healthy Donor Brain')\n",
    "dataset = vc.add_dataset(name='Brain').add_object(adata)\n",
    "scatterplot = vc.add_view(dataset, cm.SCATTERPLOT, mapping=\"X_umap\")\n",
    "status = vc.add_view(dataset, cm.STATUS)\n",
    "description = vc.add_view(dataset, cm)\n",
    "cell_sets = vc.add_view(dataset, cm.CELL_SETS)\n",
    "vc.layout(scatterplot | ((status / ) / cell_sets));"
   ]
  },
  {
   "cell_type": "code",
   "execution_count": 4,
   "metadata": {},
   "outputs": [
    {
     "name": "stdout",
     "output_type": "stream",
     "text": [
      "Creating server route for object with type <class 'anndata._core.anndata.AnnData'>\n"
     ]
    },
    {
     "name": "stderr",
     "output_type": "stream",
     "text": [
      "Running on 127.0.0.1:8000 over http (CTRL + C to quit)\n"
     ]
    },
    {
     "data": {
      "application/vnd.jupyter.widget-view+json": {
       "model_id": "1aa0dca67b834bffb8d4081c2b061cc7",
       "version_major": 2,
       "version_minor": 0
      },
      "text/plain": [
       "VitessceWidget(config={'version': '1.0.0', 'name': 'Habib et al', 'description': 'COVID-19 Healthy Donor Brain…"
      ]
     },
     "metadata": {},
     "output_type": "display_data"
    }
   ],
   "source": [
    "vw = VitessceWidget(vc)\n",
    "vw"
   ]
  },
  {
   "cell_type": "code",
   "execution_count": 5,
   "metadata": {},
   "outputs": [
    {
     "data": {
      "text/plain": [
       "{'version': '1.0.0',\n",
       " 'name': 'Habib et al',\n",
       " 'description': 'COVID-19 Healthy Donor Brain',\n",
       " 'datasets': [{'uid': 'A',\n",
       "   'name': 'Brain',\n",
       "   'files': [{'type': 'cells',\n",
       "     'fileType': 'cells.json',\n",
       "     'url': 'http://localhost:8000/A/0/cells'},\n",
       "    {'type': 'cell-sets',\n",
       "     'fileType': 'cell-sets.json',\n",
       "     'url': 'http://localhost:8000/A/0/cell-sets'}]}],\n",
       " 'coordinationSpace': {'dataset': {'A': 'A'},\n",
       "  'embeddingType': {'A': 'X_umap'},\n",
       "  'embeddingZoom': {'A': 4.406262100190469},\n",
       "  'embeddingRotation': {'A': 0},\n",
       "  'embeddingTargetX': {'A': 1.8914955218799219},\n",
       "  'embeddingTargetY': {'A': 1.2901545258605174},\n",
       "  'embeddingTargetZ': {'A': -3.979039320256562e-13},\n",
       "  'cellFilter': {'A': None},\n",
       "  'cellHighlight': {'A': ''},\n",
       "  'cellSetSelection': {'A': [['Clusters', 'exCA1'],\n",
       "    ['Clusters', 'exCA3'],\n",
       "    ['Clusters', 'ASC1'],\n",
       "    ['Clusters', 'GABA1'],\n",
       "    ['Clusters', 'ODC1'],\n",
       "    ['Clusters', 'exDG'],\n",
       "    ['Clusters', 'Unclassified'],\n",
       "    ['Clusters', 'exPFC2'],\n",
       "    ['Clusters', 'GABA2'],\n",
       "    ['Clusters', 'END'],\n",
       "    ['Clusters', 'exPFC1'],\n",
       "    ['Clusters', 'MG'],\n",
       "    ['Clusters', 'ASC2'],\n",
       "    ['Clusters', 'OPC'],\n",
       "    ['Clusters', 'NSC']]},\n",
       "  'cellSetHighlight': {'A': None},\n",
       "  'cellSetColor': {'A': [{'path': ['Clusters'], 'color': [68, 119, 170]},\n",
       "    {'path': ['Clusters', 'exCA1'], 'color': [68, 119, 170]},\n",
       "    {'path': ['Clusters', 'exCA3'], 'color': [136, 204, 238]},\n",
       "    {'path': ['Clusters', 'ASC1'], 'color': [68, 170, 153]},\n",
       "    {'path': ['Clusters', 'GABA1'], 'color': [17, 119, 51]},\n",
       "    {'path': ['Clusters', 'ODC1'], 'color': [153, 153, 51]},\n",
       "    {'path': ['Clusters', 'exDG'], 'color': [221, 204, 119]},\n",
       "    {'path': ['Clusters', 'Unclassified'], 'color': [204, 102, 119]},\n",
       "    {'path': ['Clusters', 'exPFC2'], 'color': [136, 34, 85]},\n",
       "    {'path': ['Clusters', 'GABA2'], 'color': [170, 68, 153]},\n",
       "    {'path': ['Clusters', 'END'], 'color': [68, 119, 170]},\n",
       "    {'path': ['Clusters', 'exPFC1'], 'color': [136, 204, 238]},\n",
       "    {'path': ['Clusters', 'MG'], 'color': [68, 170, 153]},\n",
       "    {'path': ['Clusters', 'ASC2'], 'color': [17, 119, 51]},\n",
       "    {'path': ['Clusters', 'OPC'], 'color': [153, 153, 51]},\n",
       "    {'path': ['Clusters', 'NSC'], 'color': [221, 204, 119]}]},\n",
       "  'geneHighlight': {'A': None},\n",
       "  'geneSelection': {'A': None},\n",
       "  'geneExpressionColormap': {'A': 'plasma'},\n",
       "  'geneExpressionColormapRange': {'A': [0, 1]},\n",
       "  'cellColorEncoding': {'A': 'cellSetSelection'},\n",
       "  'additionalCellSets': {'A': None}},\n",
       " 'layout': [{'component': 'scatterplot',\n",
       "   'coordinationScopes': {'dataset': 'A',\n",
       "    'embeddingType': 'A',\n",
       "    'embeddingZoom': 'A',\n",
       "    'embeddingRotation': 'A',\n",
       "    'embeddingTargetX': 'A',\n",
       "    'embeddingTargetY': 'A',\n",
       "    'embeddingTargetZ': 'A',\n",
       "    'cellFilter': 'A',\n",
       "    'cellHighlight': 'A',\n",
       "    'cellSetSelection': 'A',\n",
       "    'cellSetHighlight': 'A',\n",
       "    'cellSetColor': 'A',\n",
       "    'geneHighlight': 'A',\n",
       "    'geneSelection': 'A',\n",
       "    'geneExpressionColormap': 'A',\n",
       "    'geneExpressionColormapRange': 'A',\n",
       "    'cellColorEncoding': 'A',\n",
       "    'additionalCellSets': 'A'},\n",
       "   'x': 0,\n",
       "   'y': 0,\n",
       "   'w': 6,\n",
       "   'h': 12},\n",
       "  {'component': 'status',\n",
       "   'coordinationScopes': {'dataset': 'A',\n",
       "    'cellHighlight': 'A',\n",
       "    'cellSetHighlight': 'A',\n",
       "    'geneHighlight': 'A'},\n",
       "   'x': 6,\n",
       "   'y': 0,\n",
       "   'w': 6,\n",
       "   'h': 6},\n",
       "  {'component': 'cellSets',\n",
       "   'coordinationScopes': {'dataset': 'A',\n",
       "    'cellSetSelection': 'A',\n",
       "    'cellSetHighlight': 'A',\n",
       "    'cellSetColor': 'A',\n",
       "    'cellColorEncoding': 'A',\n",
       "    'additionalCellSets': 'A'},\n",
       "   'x': 6,\n",
       "   'y': 6,\n",
       "   'w': 6,\n",
       "   'h': 6}],\n",
       " 'initStrategy': 'auto'}"
      ]
     },
     "execution_count": 5,
     "metadata": {},
     "output_type": "execute_result"
    }
   ],
   "source": [
    "vw.config"
   ]
  },
  {
   "cell_type": "code",
   "execution_count": null,
   "metadata": {},
   "outputs": [],
   "source": []
  },
  {
   "cell_type": "code",
   "execution_count": null,
   "metadata": {},
   "outputs": [],
   "source": []
  }
 ],
 "metadata": {
  "kernelspec": {
   "display_name": "Python 3",
   "language": "python",
   "name": "python3"
  },
  "language_info": {
   "codemirror_mode": {
    "name": "ipython",
    "version": 3
   },
   "file_extension": ".py",
   "mimetype": "text/x-python",
   "name": "python",
   "nbconvert_exporter": "python",
   "pygments_lexer": "ipython3",
   "version": "3.8.5"
  }
 },
 "nbformat": 4,
 "nbformat_minor": 4
}
