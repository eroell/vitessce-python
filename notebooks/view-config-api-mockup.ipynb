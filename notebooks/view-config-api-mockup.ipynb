{
 "cells": [
  {
   "cell_type": "code",
   "execution_count": null,
   "metadata": {},
   "outputs": [],
   "source": [
    "from vitessce import VitessceConfig"
   ]
  },
  {
   "cell_type": "code",
   "execution_count": null,
   "metadata": {},
   "outputs": [],
   "source": [
    "# Use Case 1: Visualize 3 pairs of scatterplots\n",
    "\n",
    "vc = VitessceConfig()\n",
    "\n",
    "## Add data.\n",
    "### if dataset contained in local AnnData objects:\n",
    "disease_dataset = vc.add_dataset(data=lung_covid_anndata)\n",
    "healthy_dataset = vc.add_dataset(data=lung_healthy_anndata)\n",
    "### or, if dataset is located in remote files:\n",
    "disease_dataset = vc.add_dataset(name=\"COVID-19 patient PBMCs\")\n",
    "healthy_dataset = vc.add_dataset(name=\"Healthy patient PBMCs\")\n",
    "disease_dataset.add_file_url(\"http://s3.com/disease-cells.json\", data_type='cells', file_type='cells.json')\n",
    "healthy_dataset.add_file_url(\"http://s3.com/healthy-cells.json\", data_type='cells', file_type='cells.json')\n",
    "\n",
    "## Add views.\n",
    "scatterplot_disease_pca = vc.add_view(disease_dataset, \"scatterplot\", mapping=\"X_pca\")\n",
    "scatterplot_disease_umap = vc.add_view(disease_dataset, \"scatterplot\", mapping=\"X_umap\")\n",
    "scatterplot_disease_tsne = vc.add_view(disease_dataset, \"scatterplot\", mapping=\"X_tsne\")\n",
    "scatterplot_healthy_pca = vc.add_view(healthy_dataset, \"scatterplot\", mapping=\"X_pca\")\n",
    "scatterplot_healthy_umap = vc.add_view(healthy_dataset, \"scatterplot\", mapping=\"X_umap\")\n",
    "scatterplot_healthy_tsne = vc.add_view(healthy_dataset, \"scatterplot\", mapping=\"X_tsne\")\n",
    "\n",
    "## Link views.\n",
    "vc.link_views(scatterplot_disease_pca, scatterplot_healthy_pca, coordination_types=[\"embeddingZoom\", \"embeddingTargetX\", \"embeddingTargetY\"])\n",
    "vc.link_views(scatterplot_disease_umap, scatterplot_healthy_umap, coordination_types=[\"embeddingZoom\", \"embeddingTargetX\", \"embeddingTargetY\"])\n",
    "vc.link_views(scatterplot_disease_tsne, scatterplot_healthy_tsne, coordination_types=[\"embeddingZoom\", \"embeddingTargetX\", \"embeddingTargetY\"])\n",
    "\n",
    "\n",
    "## Set layout.\n",
    "vc.layout = (\n",
    "    (scatterplot_disease_pca / scatterplot_healthy_pca)\n",
    "    | (scatterplot_disease_umap / scatterplot_healthy_umap)\n",
    "    | (scatterplot_disease_tsne / scatterplot_healthy_tsne)\n",
    ")\n",
    "### or\n",
    "vc.layout = hconcat(\n",
    "    vconcat(scatterplot_disease_pca, scatterplot_healthy_pca),\n",
    "    vconcat(scatterplot_disease_umap, scatterplot_healthy_umap),\n",
    "    vconcat(scatterplot_disease_tsne, scatterplot_healthy_tsne)\n",
    ")\n",
    "### or, when adding views, set x,y,w,h parameters directly rather than the separate vc.layout step:\n",
    "scatterplot1 = vc.add_view(dataset1, \"scatterplot\", mapping=\"X_pca\", x=0, y=0, w=4, h=4)\n",
    "scatterplot2 = vc.add_view(dataset2, \"scatterplot\", mapping=\"X_umap\", x=4, y=0, w=4, h=4)"
   ]
  },
  {
   "cell_type": "code",
   "execution_count": null,
   "metadata": {},
   "outputs": [],
   "source": []
  }
 ],
 "metadata": {
  "kernelspec": {
   "display_name": "Python 3",
   "language": "python",
   "name": "python3"
  },
  "language_info": {
   "codemirror_mode": {
    "name": "ipython",
    "version": 3
   },
   "file_extension": ".py",
   "mimetype": "text/x-python",
   "name": "python",
   "nbconvert_exporter": "python",
   "pygments_lexer": "ipython3",
   "version": "3.8.5"
  }
 },
 "nbformat": 4,
 "nbformat_minor": 4
}
