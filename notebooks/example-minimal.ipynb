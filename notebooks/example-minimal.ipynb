{
 "cells": [
  {
   "cell_type": "markdown",
   "metadata": {},
   "source": [
    "# Vitessce: a minimal example"
   ]
  },
  {
   "cell_type": "markdown",
   "metadata": {},
   "source": [
    "## Import the widget\n",
    "\n",
    "In the following line, we import the `VitessceWidget` class from the `vitessce` Python package. This class allows us to instantiate a `VitessceWidget` object."
   ]
  },
  {
   "cell_type": "code",
   "execution_count": 3,
   "metadata": {},
   "outputs": [],
   "source": [
    "from vitessce import VitessceWidget"
   ]
  },
  {
   "cell_type": "markdown",
   "metadata": {},
   "source": [
    "## Import an example Vitessce config\n",
    "\n",
    "The Vitessce config is a Python `dict` object that specifies a layout for the Vitessce components will be rendered in the widget. These components may be scatterplots, spatial plots, heatmaps, and control components. The config also describes the datasets and files that will be visualized. The full schema definition can be found [here](https://github.com/hubmapconsortium/vitessce/blob/master/src/schemas/config.schema.json).\n",
    "\n",
    "The `vitessce` package provides helper functions to simplify the process of defining Vitessce configs. Those functions are demonstrated in the `example-config-creation.ipynb` notebook. The helper functions are intended to make visualization of local datasets easy. However, in this case, we are importing a config that has been pre-defined in the file `example_configs.py`, in which the dataset being visualized is stored remotely in AWS S3 (rather than locally)."
   ]
  },
  {
   "cell_type": "code",
   "execution_count": 4,
   "metadata": {},
   "outputs": [],
   "source": [
    "from example_configs import dries as dries_config"
   ]
  },
  {
   "cell_type": "markdown",
   "metadata": {},
   "source": [
    "## Create the Vitessce widget\n",
    "\n",
    "Create the widget by passing the config parameter to the `VitessceWidget` constructor. Render the widget by placing the widget variable on its own line at the end of the notebook cell."
   ]
  },
  {
   "cell_type": "code",
   "execution_count": 5,
   "metadata": {
    "scrolled": true
   },
   "outputs": [
    {
     "data": {
      "application/vnd.jupyter.widget-view+json": {
       "model_id": "e562198d200b4f74822b8d77cabc6b91",
       "version_major": 2,
       "version_minor": 0
      },
      "text/plain": [
       "VitessceWidget(config={'version': '0.1.0', 'description': 'Giotto, a pipeline for integrative analysis and vis…"
      ]
     },
     "metadata": {},
     "output_type": "display_data"
    },
    {
     "name": "stderr",
     "output_type": "stream",
     "text": [
      "Running on 127.0.0.1:8000 over http (CTRL + C to quit)\n"
     ]
    }
   ],
   "source": [
    "w = VitessceWidget(config=dries_config)\n",
    "w"
   ]
  },
  {
   "cell_type": "code",
   "execution_count": null,
   "metadata": {},
   "outputs": [],
   "source": []
  }
 ],
 "metadata": {
  "kernelspec": {
   "display_name": "Python 3",
   "language": "python",
   "name": "python3"
  },
  "language_info": {
   "codemirror_mode": {
    "name": "ipython",
    "version": 3
   },
   "file_extension": ".py",
   "mimetype": "text/x-python",
   "name": "python",
   "nbconvert_exporter": "python",
   "pygments_lexer": "ipython3",
   "version": "3.7.4"
  }
 },
 "nbformat": 4,
 "nbformat_minor": 4
}
