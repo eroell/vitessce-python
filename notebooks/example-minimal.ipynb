{
 "cells": [
  {
   "cell_type": "markdown",
   "metadata": {},
   "source": [
    "# Vitessce: a minimal example"
   ]
  },
  {
   "cell_type": "markdown",
   "metadata": {},
   "source": [
    "## Import the widget\n",
    "\n",
    "In the following line, we import the `VitessceWidget` class from the `vitessce` Python package. This class allows us to instantiate a `VitessceWidget` object."
   ]
  },
  {
   "cell_type": "code",
   "execution_count": null,
   "metadata": {},
   "outputs": [],
   "source": [
    "from vitessce import VitessceWidget"
   ]
  },
  {
   "cell_type": "markdown",
   "metadata": {},
   "source": [
    "## Import an example Vitessce config\n",
    "\n",
    "The Vitessce config is a Python `dict` object that specifies a layout for the Vitessce components will be rendered in the widget. These components may be scatterplots, spatial plots, heatmaps, or control components. The config also describes the datasets and files that will be visualized. The full schema definition can be found [here](https://github.com/hubmapconsortium/vitessce/blob/master/src/schemas/config.schema.json). A glossary of Vitessce terms and concepts can be found [here](https://github.com/hubmapconsortium/vitessce/blob/master/GLOSSARY.md).\n",
    "\n",
    "The `vitessce` package provides helper functions to simplify the process of defining Vitessce configs. Those functions are demonstrated in the `example-config-creation.ipynb` notebook. The helper functions are intended to make visualization of local datasets easy. However, in this case, we are importing a config that has been pre-defined in the file `example_configs.py`, in which the dataset being visualized is stored remotely in AWS S3 (rather than locally)."
   ]
  },
  {
   "cell_type": "code",
   "execution_count": null,
   "metadata": {},
   "outputs": [],
   "source": [
    "from example_configs import dries as dries_config"
   ]
  },
  {
   "cell_type": "markdown",
   "metadata": {},
   "source": [
    "## Create the Vitessce widget\n",
    "\n",
    "Create the widget by passing the config parameter to the `VitessceWidget` constructor. Render the widget by placing the widget variable on its own line at the end of the notebook cell."
   ]
  },
  {
   "cell_type": "code",
   "execution_count": null,
   "metadata": {
    "scrolled": true
   },
   "outputs": [],
   "source": [
    "w = VitessceWidget(config=dries_config)\n",
    "w"
   ]
  },
  {
   "cell_type": "code",
   "execution_count": null,
   "metadata": {},
   "outputs": [],
   "source": []
  }
 ],
 "metadata": {
  "kernelspec": {
   "display_name": "Python 3",
   "language": "python",
   "name": "python3"
  },
  "language_info": {
   "codemirror_mode": {
    "name": "ipython",
    "version": 3
   },
   "file_extension": ".py",
   "mimetype": "text/x-python",
   "name": "python",
   "nbconvert_exporter": "python",
   "pygments_lexer": "ipython3",
   "version": "3.7.4"
  }
 },
 "nbformat": 4,
 "nbformat_minor": 4
}
